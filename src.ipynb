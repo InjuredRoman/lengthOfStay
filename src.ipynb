{
  "cells": [
    {
      "cell_type": "markdown",
      "metadata": {
        "id": "kqMmI63mYuiW"
      },
      "source": [
        "# VERITAS AI\n",
        "\n",
        "An immersive Virtual AI program for ambitious high school students, founded and run by Harvard graduate students. For more information, see [Veritas AI](https://www.veritasai.com/).\n",
        "\n",
        "<p align=\"center\">\n",
        "    <a href=\"https://www.veritasai.com/\">\n",
        "        <img src=\"https://images.squarespace-cdn.com/content/v1/61e9374e0434354049a258f9/f89e8510-6098-4747-a89e-0cd34fe13376/Veritas_Fellowship+MP+White+copy+2.png\" width=\"400\" height=\"400\"/>\n",
        "    </a>\n",
        "</p>\n",
        "\n",
        "## Content: All Slides and Codes\n",
        "\n",
        "The links of the colabs for the code walkthrough of the first 8 weeks are listed below. **PLEASE DO NOT EDIT THE SCRIPT DIRECTLY. REMEMBER TO SAVE AS A COPY IF YOU WANT TO RUN THE CODE**\n",
        "\n",
        "Section | Name | Links\n",
        "--- | --- | ---\n",
        "1 | **Intro to Basic Python, Numpy, and Pandas** | [Code](https://colab.research.google.com/drive/1z-0Z852bFOUNYhve0wbsCcRJCZpCqcqp?usp=sharing)\n",
        "2 | **Exploratory Data Analysis** | [Code](https://colab.research.google.com/drive/1VaSC8CsBxAn5JcnN2I5g2YP1m9aWBBMO?usp=sharing)\n",
        "3 | **Basics in Linear Regression** | [Code](https://colab.research.google.com/drive/1HC4netVsOZT1BHjyUNcu8u8f1Etfoi2b?usp=sharing)\n",
        "4 | **Basics in Logistic Regression** | [Code](https://colab.research.google.com/drive/1lm5nv5ULZqJBklZJMyRonJGyk0sNjWGi?usp=sharing)\n",
        "5 | **Intro to Neural Networks** | [Code](https://colab.research.google.com/drive/1OGxD35fQxXdWNDwYGYpZcES5zgo6UvdO?usp=sharing)\n",
        "6 | **Intro to Convolutional Neural Networks** | [Code](https://colab.research.google.com/drive/1YAjTioD_wUuRIKhacUDpH2TC6HEOfV5u?usp=sharing)\n",
        "7 | **More in Deep Neural Networks** | [Code](https://colab.research.google.com/drive/1uM7CzWPLifgf16aVtJhWeOGN6A0guvlv?usp=sharing)\n",
        "8 | **Advanced Convolutional Neural Networks** | [Code](https://colab.research.google.com/drive/1duxfMW5sQbx91c0BJWiP2oSHVdtcbtND?usp=sharing)\n",
        "\n",
        "REMEMBER: **PLEASE DO NOT EDIT THE SCRIPT DIRECTLY. REMEMBER TO SAVE AS A COPY IF YOU WANT TO RUN THE CODE**\n"
      ]
    },
    {
      "cell_type": "markdown",
      "metadata": {
        "id": "rz5XqoFiMSHl"
      },
      "source": [
        "# Healthcare Investment\n",
        "\n",
        "![image](https://bestpractice.bmj.com/info/wp-content/uploads/2020/08/iStock-1194838627-scaled.jpg)\n",
        "\n",
        "The length of stay (LOS) is an important indicator of the efficiency of hospital management. Reduction in the number of inpatient days results in decreased risk of infection and medication side effects, improvement in the quality of treatment, and increased hospital profit with more efficient bed management. The purpose of this study was to determine which factors are associated with length of hospital stay, based on electronic health records, in order to manage hospital stay more efficiently.\n",
        "\n",
        "Given medical data about different countries from 1990-2018, let's try to predict a patient's average hospital stay.\n",
        "\n",
        "## Source\n",
        "\n",
        "This [paper](https://www.ncbi.nlm.nih.gov/pmc/articles/PMC5898738/) has done an intensive study hospital management, which could provide crucial knowledge of hospital stay and healthcare investment."
      ]
    },
    {
      "cell_type": "markdown",
      "metadata": {
        "id": "xW21olgs2qBp"
      },
      "source": [
        "## Define Research Question\n",
        "\n",
        "What question will you try to answer?\n",
        "\n",
        "Write your project goal in the form of a question to help guide the steps that follow."
      ]
    },
    {
      "cell_type": "markdown",
      "metadata": {
        "id": "yLGHF04wxFVZ"
      },
      "source": [
        "## Data Introduction"
      ]
    },
    {
      "cell_type": "code",
      "execution_count": 1,
      "metadata": {
        "id": "wf5uSFAxwu2E"
      },
      "outputs": [
        {
          "name": "stderr",
          "output_type": "stream",
          "text": [
            "/Users/chinmaypatil/lengthOfStay/myVirtualEnvironment/lib/python3.9/site-packages/urllib3/__init__.py:35: NotOpenSSLWarning: urllib3 v2 only supports OpenSSL 1.1.1+, currently the 'ssl' module is compiled with 'LibreSSL 2.8.3'. See: https://github.com/urllib3/urllib3/issues/3020\n",
            "  warnings.warn(\n"
          ]
        }
      ],
      "source": [
        "import pandas as pd\n",
        "import tensorflow as tf"
      ]
    },
    {
      "cell_type": "markdown",
      "metadata": {
        "id": "OTKe13xixJZ4"
      },
      "source": [
        "Notice that this requires you to download the data form this [link](https://drive.google.com/drive/folders/1A0kC_tBOCkiYdtijeX82VsDyvUwRKEM4?usp=sharing). Please download the data called *Healthcare_Investments_and_Hospital_Stay*. For more EDA, please refer to this notebook [here](https://www.kaggle.com/gcdatkin/predicting-length-of-hospital-stay).\n",
        "\n",
        "Once you download the *csv* format data set from the link above you can save it in your computer locally at a directory you desire. Please upload that data set onto the Colab environment by going to the menu bar on the left and click on the *folder* button to open the directory of the notebook. Please directly upload your dataset to this Colab environment and then use the path defined below."
      ]
    },
    {
      "cell_type": "code",
      "execution_count": 2,
      "metadata": {
        "colab": {
          "base_uri": "https://localhost:8080/",
          "height": 143
        },
        "id": "R_wZ1R5Sw11C",
        "outputId": "0e40a977-89fc-4d12-fae8-625a6e75bcd9"
      },
      "outputs": [
        {
          "data": {
            "text/html": [
              "<div>\n",
              "<style scoped>\n",
              "    .dataframe tbody tr th:only-of-type {\n",
              "        vertical-align: middle;\n",
              "    }\n",
              "\n",
              "    .dataframe tbody tr th {\n",
              "        vertical-align: top;\n",
              "    }\n",
              "\n",
              "    .dataframe thead th {\n",
              "        text-align: right;\n",
              "    }\n",
              "</style>\n",
              "<table border=\"1\" class=\"dataframe\">\n",
              "  <thead>\n",
              "    <tr style=\"text-align: right;\">\n",
              "      <th></th>\n",
              "      <th>Location</th>\n",
              "      <th>Time</th>\n",
              "      <th>Hospital_Stay</th>\n",
              "      <th>MRI_Units</th>\n",
              "      <th>CT_Scanners</th>\n",
              "      <th>Hospital_Beds</th>\n",
              "    </tr>\n",
              "  </thead>\n",
              "  <tbody>\n",
              "    <tr>\n",
              "      <th>0</th>\n",
              "      <td>AUS</td>\n",
              "      <td>1992</td>\n",
              "      <td>6.6</td>\n",
              "      <td>1.43</td>\n",
              "      <td>16.71</td>\n",
              "      <td>1.43</td>\n",
              "    </tr>\n",
              "    <tr>\n",
              "      <th>1</th>\n",
              "      <td>AUS</td>\n",
              "      <td>1994</td>\n",
              "      <td>6.4</td>\n",
              "      <td>2.36</td>\n",
              "      <td>18.48</td>\n",
              "      <td>2.36</td>\n",
              "    </tr>\n",
              "    <tr>\n",
              "      <th>2</th>\n",
              "      <td>AUS</td>\n",
              "      <td>1995</td>\n",
              "      <td>6.5</td>\n",
              "      <td>2.89</td>\n",
              "      <td>20.55</td>\n",
              "      <td>2.89</td>\n",
              "    </tr>\n",
              "  </tbody>\n",
              "</table>\n",
              "</div>"
            ],
            "text/plain": [
              "  Location  Time  Hospital_Stay  MRI_Units  CT_Scanners  Hospital_Beds\n",
              "0      AUS  1992            6.6       1.43        16.71           1.43\n",
              "1      AUS  1994            6.4       2.36        18.48           2.36\n",
              "2      AUS  1995            6.5       2.89        20.55           2.89"
            ]
          },
          "execution_count": 2,
          "metadata": {},
          "output_type": "execute_result"
        }
      ],
      "source": [
        "path = \"./Healthcare_Investments_and_Hospital_Stay.csv\"\n",
        "data = pd.read_csv(path)\n",
        "data.head(3)"
      ]
    },
    {
      "cell_type": "code",
      "execution_count": 3,
      "metadata": {
        "colab": {
          "base_uri": "https://localhost:8080/",
          "height": 300
        },
        "id": "4rJHWoo_w66v",
        "outputId": "b9b495c3-9390-4b79-d961-4080994ced8a"
      },
      "outputs": [
        {
          "data": {
            "text/html": [
              "<div>\n",
              "<style scoped>\n",
              "    .dataframe tbody tr th:only-of-type {\n",
              "        vertical-align: middle;\n",
              "    }\n",
              "\n",
              "    .dataframe tbody tr th {\n",
              "        vertical-align: top;\n",
              "    }\n",
              "\n",
              "    .dataframe thead th {\n",
              "        text-align: right;\n",
              "    }\n",
              "</style>\n",
              "<table border=\"1\" class=\"dataframe\">\n",
              "  <thead>\n",
              "    <tr style=\"text-align: right;\">\n",
              "      <th></th>\n",
              "      <th>Time</th>\n",
              "      <th>Hospital_Stay</th>\n",
              "      <th>MRI_Units</th>\n",
              "      <th>CT_Scanners</th>\n",
              "      <th>Hospital_Beds</th>\n",
              "    </tr>\n",
              "  </thead>\n",
              "  <tbody>\n",
              "    <tr>\n",
              "      <th>count</th>\n",
              "      <td>518.000000</td>\n",
              "      <td>518.000000</td>\n",
              "      <td>518.000000</td>\n",
              "      <td>518.000000</td>\n",
              "      <td>518.000000</td>\n",
              "    </tr>\n",
              "    <tr>\n",
              "      <th>mean</th>\n",
              "      <td>2007.967181</td>\n",
              "      <td>7.140154</td>\n",
              "      <td>10.565502</td>\n",
              "      <td>19.646718</td>\n",
              "      <td>10.565502</td>\n",
              "    </tr>\n",
              "    <tr>\n",
              "      <th>std</th>\n",
              "      <td>6.944160</td>\n",
              "      <td>2.566864</td>\n",
              "      <td>8.685570</td>\n",
              "      <td>14.352069</td>\n",
              "      <td>8.685570</td>\n",
              "    </tr>\n",
              "    <tr>\n",
              "      <th>min</th>\n",
              "      <td>1990.000000</td>\n",
              "      <td>3.400000</td>\n",
              "      <td>0.100000</td>\n",
              "      <td>1.480000</td>\n",
              "      <td>0.100000</td>\n",
              "    </tr>\n",
              "    <tr>\n",
              "      <th>25%</th>\n",
              "      <td>2003.250000</td>\n",
              "      <td>5.800000</td>\n",
              "      <td>4.072500</td>\n",
              "      <td>10.332500</td>\n",
              "      <td>4.072500</td>\n",
              "    </tr>\n",
              "    <tr>\n",
              "      <th>50%</th>\n",
              "      <td>2009.000000</td>\n",
              "      <td>6.650000</td>\n",
              "      <td>8.765000</td>\n",
              "      <td>15.375000</td>\n",
              "      <td>8.765000</td>\n",
              "    </tr>\n",
              "    <tr>\n",
              "      <th>75%</th>\n",
              "      <td>2014.000000</td>\n",
              "      <td>7.500000</td>\n",
              "      <td>13.877500</td>\n",
              "      <td>26.592500</td>\n",
              "      <td>13.877500</td>\n",
              "    </tr>\n",
              "    <tr>\n",
              "      <th>max</th>\n",
              "      <td>2018.000000</td>\n",
              "      <td>32.700000</td>\n",
              "      <td>55.210000</td>\n",
              "      <td>111.490000</td>\n",
              "      <td>55.210000</td>\n",
              "    </tr>\n",
              "  </tbody>\n",
              "</table>\n",
              "</div>"
            ],
            "text/plain": [
              "              Time  Hospital_Stay   MRI_Units  CT_Scanners  Hospital_Beds\n",
              "count   518.000000     518.000000  518.000000   518.000000     518.000000\n",
              "mean   2007.967181       7.140154   10.565502    19.646718      10.565502\n",
              "std       6.944160       2.566864    8.685570    14.352069       8.685570\n",
              "min    1990.000000       3.400000    0.100000     1.480000       0.100000\n",
              "25%    2003.250000       5.800000    4.072500    10.332500       4.072500\n",
              "50%    2009.000000       6.650000    8.765000    15.375000       8.765000\n",
              "75%    2014.000000       7.500000   13.877500    26.592500      13.877500\n",
              "max    2018.000000      32.700000   55.210000   111.490000      55.210000"
            ]
          },
          "execution_count": 3,
          "metadata": {},
          "output_type": "execute_result"
        }
      ],
      "source": [
        "data.describe()"
      ]
    },
    {
      "cell_type": "code",
      "execution_count": 4,
      "metadata": {
        "colab": {
          "base_uri": "https://localhost:8080/"
        },
        "id": "tk4N3yLQw7uH",
        "outputId": "adf5e0cd-94e2-4dff-f024-6d73bc64fd03"
      },
      "outputs": [
        {
          "name": "stdout",
          "output_type": "stream",
          "text": [
            "<class 'pandas.core.frame.DataFrame'>\n",
            "RangeIndex: 518 entries, 0 to 517\n",
            "Data columns (total 6 columns):\n",
            " #   Column         Non-Null Count  Dtype  \n",
            "---  ------         --------------  -----  \n",
            " 0   Location       518 non-null    object \n",
            " 1   Time           518 non-null    int64  \n",
            " 2   Hospital_Stay  518 non-null    float64\n",
            " 3   MRI_Units      518 non-null    float64\n",
            " 4   CT_Scanners    518 non-null    float64\n",
            " 5   Hospital_Beds  518 non-null    float64\n",
            "dtypes: float64(4), int64(1), object(1)\n",
            "memory usage: 24.4+ KB\n"
          ]
        }
      ],
      "source": [
        "data.info()"
      ]
    },
    {
      "cell_type": "code",
      "execution_count": 5,
      "metadata": {
        "colab": {
          "base_uri": "https://localhost:8080/"
        },
        "id": "G4JJzdJsw_Pi",
        "outputId": "e9dfb728-ac0c-4791-9d50-95520c08b849"
      },
      "outputs": [
        {
          "data": {
            "text/plain": [
              "Index(['Location', 'Time', 'Hospital_Stay', 'MRI_Units', 'CT_Scanners',\n",
              "       'Hospital_Beds'],\n",
              "      dtype='object')"
            ]
          },
          "execution_count": 5,
          "metadata": {},
          "output_type": "execute_result"
        }
      ],
      "source": [
        "data.columns"
      ]
    },
    {
      "cell_type": "markdown",
      "metadata": {
        "id": "a4Y_DEqU2n9l"
      },
      "source": [
        "## Exploratory Data Analysis\n",
        "\n",
        "Exploratory Data Analysis (EDA) is an approach of analyzing data sets to summarize their main characteristics, often using statistical graphics and other data visualization methods. A statistical model can be used or not, but primarily EDA is for seeing what the data can tell us before the formal modeling or hypothesis testing task.\n",
        "\n",
        "\n",
        "You can refer to more resources here in this [code](https://colab.research.google.com/drive/1KkG1V7RsnKjCRd0zx0h434nqiXwOf-fG?authuser=1)."
      ]
    },
    {
      "cell_type": "markdown",
      "metadata": {
        "id": "eU0dB8z5QZOe"
      },
      "source": [
        "1) Find the shape of your training and testing datasets (Hint: use the shape() function)"
      ]
    },
    {
      "cell_type": "code",
      "execution_count": 6,
      "metadata": {
        "id": "e1pgHO8LRaNQ"
      },
      "outputs": [],
      "source": [
        "# Your code here\n",
        "import sklearn\n",
        "from sklearn.model_selection import train_test_split\n",
        "\n",
        "features, labels = data.drop(columns=['Hospital_Stay', \"Location\"]), data[\"Hospital_Stay\"]\n",
        "\n",
        "\n",
        "trainX, testX, trainY, testY = train_test_split(features, labels, test_size=0.3, random_state=42) "
      ]
    },
    {
      "cell_type": "markdown",
      "metadata": {
        "id": "orw3J1VaRcRy"
      },
      "source": [
        "2) Plot a histogram of one of the columns you find interesting in the data frame. (Hint: Recall the *.hist()* method)"
      ]
    },
    {
      "cell_type": "code",
      "execution_count": null,
      "metadata": {},
      "outputs": [],
      "source": []
    },
    {
      "cell_type": "code",
      "execution_count": 48,
      "metadata": {
        "id": "CUQnYrg0R8sv"
      },
      "outputs": [],
      "source": [
        "# Your code here"
      ]
    },
    {
      "cell_type": "markdown",
      "metadata": {
        "id": "FgjaQhLFR-Hw"
      },
      "source": [
        "3) Plot a scatter plot of two columns that you find interesting in the data frame. (Hint: Recall in *matplotlib.pyplot* there is the *.scatter* method)"
      ]
    },
    {
      "cell_type": "code",
      "execution_count": 7,
      "metadata": {
        "id": "UGmhISniSV0o"
      },
      "outputs": [
        {
          "data": {
            "image/png": "[encoded data removed]",
            "text/plain": [
              "<Figure size 640x480 with 1 Axes>"
            ]
          },
          "metadata": {},
          "output_type": "display_data"
        }
      ],
      "source": [
        "# Your code here\n",
        "import matplotlib.pyplot as plt\n",
        "for feature in [\"MRI_Units\", 'CT_Scanners']:\n",
        "    plt.scatter(features[feature], labels)\n",
        "    plt.xlabel(feature)\n",
        "    plt.ylabel(\"Hospital Stay\")"
      ]
    },
    {
      "cell_type": "markdown",
      "metadata": {
        "id": "pZS4UzRWSbFR"
      },
      "source": [
        "4) Try to think of one more step on your own here. What else would you like to know about the data or how it is arranged?"
      ]
    },
    {
      "cell_type": "code",
      "execution_count": null,
      "metadata": {},
      "outputs": [],
      "source": []
    },
    {
      "cell_type": "code",
      "execution_count": 8,
      "metadata": {
        "id": "HAk-kXQ4SpE4"
      },
      "outputs": [
        {
          "data": {
            "text/plain": [
              "2.250631318068562"
            ]
          },
          "execution_count": 8,
          "metadata": {},
          "output_type": "execute_result"
        }
      ],
      "source": [
        "# Your code here\n",
        "from sklearn.linear_model import LinearRegression\n",
        "from sklearn.metrics import mean_squared_error, root_mean_squared_error\n",
        "\n",
        "def trainLinearRegressor(trainX, trainY):\n",
        "    lr = LinearRegression()\n",
        "    lr.fit(trainX, trainY)\n",
        "    return lr\n",
        "\n",
        "lr = trainLinearRegressor(trainX, trainY)\n",
        "preds = lr.predict(testX)\n",
        "mean_squared_error(testY, preds)\n",
        "root_mean_squared_error(testY, preds)\n"
      ]
    },
    {
      "cell_type": "markdown",
      "metadata": {
        "id": "a1HOXgQ02jZq"
      },
      "source": [
        "## Baseline Model\n",
        "\n",
        "Fundamentally, a baseline is a model that is both simple to set up and has a reasonable chance of providing decent results. Experimenting with them is usually quick and low cost, since implementations are widely available in popular packages.\n",
        "\n",
        "# To do:\n",
        "\n",
        "1) Separate training and testing sets\n",
        "\n",
        "2) Create a traditional neural network model for classification. Code examples are [here](https://colab.research.google.com/drive/1OGxD35fQxXdWNDwYGYpZcES5zgo6UvdO?authuser=1) for reference.\n",
        "\n",
        "3) Plot your training and testing accuracy across epochs\n",
        "\n",
        "\n",
        "## Challenge:\n",
        "\n",
        "- Create another neural net with a different layer configuration. Does it improve performance?"
      ]
    },
    {
      "cell_type": "code",
      "execution_count": 26,
      "metadata": {},
      "outputs": [
        {
          "name": "stdout",
          "output_type": "stream",
          "text": [
            "       Time  MRI_Units  CT_Scanners  Hospital_Beds\n",
            "0 -2.301591  -1.052819    -0.204818      -1.052819\n",
            "1 -2.013301  -0.945641    -0.081371      -0.945641\n",
            "2 -1.869156  -0.884562     0.062998      -0.884562\n",
            "3 -1.725011  -0.876494     0.160639      -0.876494\n",
            "4 -1.580865  -0.810805     0.257583      -0.810805\n"
          ]
        },
        {
          "ename": "AttributeError",
          "evalue": "'Sequential' object has no attribute 'complie'",
          "output_type": "error",
          "traceback": [
            "\u001b[0;31m---------------------------------------------------------------------------\u001b[0m",
            "\u001b[0;31mAttributeError\u001b[0m                            Traceback (most recent call last)",
            "Cell \u001b[0;32mIn[26], line 24\u001b[0m\n\u001b[1;32m     21\u001b[0m     nn\u001b[38;5;241m.\u001b[39mfit(trainX, trainY, epochs \u001b[38;5;241m=\u001b[39m \u001b[38;5;241m15\u001b[39m,\n\u001b[1;32m     22\u001b[0m            validation_data\u001b[38;5;241m=\u001b[39m[testX, testY])\n\u001b[1;32m     23\u001b[0m     \u001b[38;5;28;01mreturn\u001b[39;00m nn\n\u001b[0;32m---> 24\u001b[0m nn \u001b[38;5;241m=\u001b[39m \u001b[43mtrainNN\u001b[49m\u001b[43m(\u001b[49m\u001b[43mtrainX\u001b[49m\u001b[43m,\u001b[49m\u001b[43m \u001b[49m\u001b[43mtrainY\u001b[49m\u001b[43m,\u001b[49m\u001b[43m \u001b[49m\u001b[43mtestX\u001b[49m\u001b[43m,\u001b[49m\u001b[43m \u001b[49m\u001b[43mtestY\u001b[49m\u001b[43m)\u001b[49m\n",
            "Cell \u001b[0;32mIn[26], line 18\u001b[0m, in \u001b[0;36mtrainNN\u001b[0;34m(trainX, trainY, testX, testY)\u001b[0m\n\u001b[1;32m     12\u001b[0m \u001b[38;5;28;01mdef\u001b[39;00m \u001b[38;5;21mtrainNN\u001b[39m(trainX, trainY, testX, testY):\n\u001b[1;32m     13\u001b[0m     nn \u001b[38;5;241m=\u001b[39m tf\u001b[38;5;241m.\u001b[39mkeras\u001b[38;5;241m.\u001b[39mmodels\u001b[38;5;241m.\u001b[39mSequential([\n\u001b[1;32m     14\u001b[0m      tf\u001b[38;5;241m.\u001b[39mkeras\u001b[38;5;241m.\u001b[39mlayers\u001b[38;5;241m.\u001b[39mDense(\u001b[38;5;241m10\u001b[39m, activation\u001b[38;5;241m=\u001b[39mtf\u001b[38;5;241m.\u001b[39mnn\u001b[38;5;241m.\u001b[39mrelu), \u001b[38;5;66;03m# 30 neurons in this layer, activation is ReLU(x) = max(x, 0)\u001b[39;00m\n\u001b[1;32m     15\u001b[0m      tf\u001b[38;5;241m.\u001b[39mkeras\u001b[38;5;241m.\u001b[39mlayers\u001b[38;5;241m.\u001b[39mDense(\u001b[38;5;241m5\u001b[39m, activation\u001b[38;5;241m=\u001b[39mtf\u001b[38;5;241m.\u001b[39mnn\u001b[38;5;241m.\u001b[39mrelu), \u001b[38;5;66;03m# 30 neurons in this layer, activation is ReLU(x) = max(x, 0)\u001b[39;00m\n\u001b[1;32m     16\u001b[0m      tf\u001b[38;5;241m.\u001b[39mkeras\u001b[38;5;241m.\u001b[39mlayers\u001b[38;5;241m.\u001b[39mDense(\u001b[38;5;241m1\u001b[39m) \u001b[38;5;66;03m# output layer -> one neuron to get the final predicted price\u001b[39;00m\n\u001b[1;32m     17\u001b[0m   ])\n\u001b[0;32m---> 18\u001b[0m     \u001b[43mnn\u001b[49m\u001b[38;5;241;43m.\u001b[39;49m\u001b[43mcomplie\u001b[49m(optimizer \u001b[38;5;241m=\u001b[39m \u001b[38;5;124m'\u001b[39m\u001b[38;5;124madam\u001b[39m\u001b[38;5;124m'\u001b[39m,\n\u001b[1;32m     19\u001b[0m         loss \u001b[38;5;241m=\u001b[39m \u001b[38;5;124m'\u001b[39m\u001b[38;5;124mmean_square_error\u001b[39m\u001b[38;5;124m'\u001b[39m,\n\u001b[1;32m     20\u001b[0m         metrics\u001b[38;5;241m=\u001b[39m[\u001b[38;5;124m'\u001b[39m\u001b[38;5;124maccuracy\u001b[39m\u001b[38;5;124m'\u001b[39m])\n\u001b[1;32m     21\u001b[0m     nn\u001b[38;5;241m.\u001b[39mfit(trainX, trainY, epochs \u001b[38;5;241m=\u001b[39m \u001b[38;5;241m15\u001b[39m,\n\u001b[1;32m     22\u001b[0m            validation_data\u001b[38;5;241m=\u001b[39m[testX, testY])\n\u001b[1;32m     23\u001b[0m     \u001b[38;5;28;01mreturn\u001b[39;00m nn\n",
            "\u001b[0;31mAttributeError\u001b[0m: 'Sequential' object has no attribute 'complie'"
          ]
        }
      ],
      "source": [
        "from sklearn.preprocessing import StandardScaler\n",
        "scaler = StandardScaler()\n",
        "features = scaler.fit_transform(features)\n",
        "features = pd.DataFrame(features, columns = data.drop(['Location', \"Hospital_Stay\"], axis = 1).columns)\n",
        "print(features.head())\n",
        "\n",
        "\n",
        "\n",
        "from sklearn.model_selection import train_test_split\n",
        "X_train, X_test, y_train, y_test = train_test_split(features, labels, test_size=0.3, random_state=0)\n",
        "\n",
        "def trainNN(trainX, trainY, testX, testY):\n",
        "    nn = tf.keras.models.Sequential([\n",
        "     tf.keras.layers.Dense(10, activation=tf.nn.relu), # 30 neurons in this layer, activation is ReLU(x) = max(x, 0)\n",
        "     tf.keras.layers.Dense(5, activation=tf.nn.relu), # 30 neurons in this layer, activation is ReLU(x) = max(x, 0)\n",
        "     tf.keras.layers.Dense(1) # output layer -> one neuron to get the final predicted price\n",
        "  ])\n",
        "    nn.complie(optimizer = 'adam',\n",
        "            loss = 'mean_square_error',\n",
        "            metrics=['accuracy'])\n",
        "    nn.fit(trainX, trainY, epochs = 15,\n",
        "           validation_data=[testX, testY])\n",
        "    return nn\n",
        "nn = trainNN(trainX, trainY, testX, testY)\n"
      ]
    },
    {
      "cell_type": "markdown",
      "metadata": {
        "id": "aM3C4Cr82--9"
      },
      "source": [
        "## Advanced Model\n",
        "\n",
        "With the knowledge from the baseline model, your team and the instructor can work together to develop advanced models. Advanced models can have the following impact:\n",
        "\n",
        "- higher accuracy (we usually refer to test set performance and advanced models should have higher performance in the test set than baseline models)\n",
        "- auto-tune (some advanced model can be due to more automatic tuning procedure, this means the advanced model is a function instead of a fixed model)\n",
        "\n",
        "Examples:\n",
        "- Build a model that is more complex or can improve upon your predictions for classification."
      ]
    },
    {
      "cell_type": "markdown",
      "metadata": {
        "id": "d2cZEJLu3AUs"
      },
      "source": [
        "## Model Tuning\n",
        "\n",
        "Recall in Week 5, we discussed hyperparameters tuning. You can refer to this code [here](https://colab.research.google.com/drive/1BdW6zSQ2XAUcLI83CANcFBQaBw5WgepK)."
      ]
    },
    {
      "cell_type": "markdown",
      "metadata": {
        "id": "QtFRFzlN3Ckl"
      },
      "source": [
        "## Performance Summary\n",
        "\n",
        "Make a presentation of your result. You can refer to the syntax below.\n",
        "\n",
        "Markdown | Preview\n",
        "--- | ---\n",
        "`**Model 1**` | **Model 2**\n",
        "`*70%*` or `_italicized text_` | *90%*\n",
        "`` `Monospace` `` | `Monospace`\n",
        "`~~strikethrough~~` | ~~strikethrough~~\n",
        "`[A link](https://www.google.com)` | [A link](https://www.google.com)\n",
        "`![An image](https://www.google.com/images/rss.png)` | ![An image](https://www.google.com/images/rss.png)\n",
        "\n",
        "More resources about creating tables in markdown of colab can be found [here](https://colab.research.google.com/notebooks/markdown_guide.ipynb#scrollTo=Lhfnlq1Surtk)."
      ]
    },
    {
      "cell_type": "markdown",
      "metadata": {
        "id": "Ub66k20i3Eys"
      },
      "source": [
        "## Interpretation and Future Work\n",
        "\n",
        "Present and also interpret your experimental performance. Comment on potential future work or research questions that your project leads to."
      ]
    }
  ],
  "metadata": {
    "colab": {
      "provenance": []
    },
    "kernelspec": {
      "display_name": "Python 3",
      "name": "python3"
    },
    "language_info": {
      "codemirror_mode": {
        "name": "ipython",
        "version": 3
      },
      "file_extension": ".py",
      "mimetype": "text/x-python",
      "name": "python",
      "nbconvert_exporter": "python",
      "pygments_lexer": "ipython3",
      "version": "3.9.6"
    }
  },
  "nbformat": 4,
  "nbformat_minor": 0
}
